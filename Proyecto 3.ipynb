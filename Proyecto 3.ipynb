{
 "cells": [
  {
   "cell_type": "code",
   "execution_count": 1,
   "metadata": {
    "collapsed": true
   },
   "outputs": [],
   "source": [
    "import numpy as np  \n",
    "import pandas as pd  \n",
    "from pandas_datareader import data as web  \n",
    "import matplotlib.pyplot as plt  \n",
    "from scipy.stats import norm\n",
    "import datetime\n",
    "%matplotlib inline"
   ]
  },
  {
   "cell_type": "code",
   "execution_count": null,
   "metadata": {},
   "outputs": [],
   "source": [
    "start = datetime.datetime(2017,1,1)\n",
    "end = datetime.dow()\n",
    "data = wb.DataReader(\"AMZN\",\"morningstar\",start,end)\n",
    "ticker = 'AMZN' \n",
    "data = pd.DataFrame()\n",
    "data[ticker] = wb.DataReader(ticker, data_source='morningstar',end)['Close']\n",
    "data[ticker]"
   ]
  },
  {
   "cell_type": "code",
   "execution_count": 31,
   "metadata": {},
   "outputs": [
    {
     "data": {
      "text/html": [
       "<div>\n",
       "<style>\n",
       "    .dataframe thead tr:only-child th {\n",
       "        text-align: right;\n",
       "    }\n",
       "\n",
       "    .dataframe thead th {\n",
       "        text-align: left;\n",
       "    }\n",
       "\n",
       "    .dataframe tbody tr th {\n",
       "        vertical-align: top;\n",
       "    }\n",
       "</style>\n",
       "<table border=\"1\" class=\"dataframe\">\n",
       "  <thead>\n",
       "    <tr style=\"text-align: right;\">\n",
       "      <th></th>\n",
       "      <th>Close</th>\n",
       "    </tr>\n",
       "    <tr>\n",
       "      <th>Date</th>\n",
       "      <th></th>\n",
       "    </tr>\n",
       "  </thead>\n",
       "  <tbody>\n",
       "    <tr>\n",
       "      <th>2018-01-01</th>\n",
       "      <td>1169.47</td>\n",
       "    </tr>\n",
       "    <tr>\n",
       "      <th>2018-01-02</th>\n",
       "      <td>1189.01</td>\n",
       "    </tr>\n",
       "    <tr>\n",
       "      <th>2018-01-03</th>\n",
       "      <td>1204.20</td>\n",
       "    </tr>\n",
       "    <tr>\n",
       "      <th>2018-01-04</th>\n",
       "      <td>1209.59</td>\n",
       "    </tr>\n",
       "    <tr>\n",
       "      <th>2018-01-05</th>\n",
       "      <td>1229.14</td>\n",
       "    </tr>\n",
       "    <tr>\n",
       "      <th>2018-01-08</th>\n",
       "      <td>1246.87</td>\n",
       "    </tr>\n",
       "    <tr>\n",
       "      <th>2018-01-09</th>\n",
       "      <td>1252.70</td>\n",
       "    </tr>\n",
       "    <tr>\n",
       "      <th>2018-01-10</th>\n",
       "      <td>1254.33</td>\n",
       "    </tr>\n",
       "    <tr>\n",
       "      <th>2018-01-11</th>\n",
       "      <td>1276.68</td>\n",
       "    </tr>\n",
       "    <tr>\n",
       "      <th>2018-01-12</th>\n",
       "      <td>1305.20</td>\n",
       "    </tr>\n",
       "    <tr>\n",
       "      <th>2018-01-15</th>\n",
       "      <td>1305.20</td>\n",
       "    </tr>\n",
       "    <tr>\n",
       "      <th>2018-01-16</th>\n",
       "      <td>1304.86</td>\n",
       "    </tr>\n",
       "    <tr>\n",
       "      <th>2018-01-17</th>\n",
       "      <td>1295.00</td>\n",
       "    </tr>\n",
       "    <tr>\n",
       "      <th>2018-01-18</th>\n",
       "      <td>1293.32</td>\n",
       "    </tr>\n",
       "    <tr>\n",
       "      <th>2018-01-19</th>\n",
       "      <td>1294.58</td>\n",
       "    </tr>\n",
       "    <tr>\n",
       "      <th>2018-01-22</th>\n",
       "      <td>1327.31</td>\n",
       "    </tr>\n",
       "    <tr>\n",
       "      <th>2018-01-23</th>\n",
       "      <td>1362.54</td>\n",
       "    </tr>\n",
       "    <tr>\n",
       "      <th>2018-01-24</th>\n",
       "      <td>1357.51</td>\n",
       "    </tr>\n",
       "    <tr>\n",
       "      <th>2018-01-25</th>\n",
       "      <td>1377.95</td>\n",
       "    </tr>\n",
       "    <tr>\n",
       "      <th>2018-01-26</th>\n",
       "      <td>1402.05</td>\n",
       "    </tr>\n",
       "    <tr>\n",
       "      <th>2018-01-29</th>\n",
       "      <td>1417.68</td>\n",
       "    </tr>\n",
       "    <tr>\n",
       "      <th>2018-01-30</th>\n",
       "      <td>1437.82</td>\n",
       "    </tr>\n",
       "    <tr>\n",
       "      <th>2018-01-31</th>\n",
       "      <td>1450.89</td>\n",
       "    </tr>\n",
       "    <tr>\n",
       "      <th>2018-02-01</th>\n",
       "      <td>1390.00</td>\n",
       "    </tr>\n",
       "    <tr>\n",
       "      <th>2018-02-02</th>\n",
       "      <td>1429.95</td>\n",
       "    </tr>\n",
       "    <tr>\n",
       "      <th>2018-02-05</th>\n",
       "      <td>1390.00</td>\n",
       "    </tr>\n",
       "    <tr>\n",
       "      <th>2018-02-06</th>\n",
       "      <td>1442.84</td>\n",
       "    </tr>\n",
       "    <tr>\n",
       "      <th>2018-02-07</th>\n",
       "      <td>1416.78</td>\n",
       "    </tr>\n",
       "    <tr>\n",
       "      <th>2018-02-08</th>\n",
       "      <td>1350.50</td>\n",
       "    </tr>\n",
       "    <tr>\n",
       "      <th>2018-02-09</th>\n",
       "      <td>1339.60</td>\n",
       "    </tr>\n",
       "    <tr>\n",
       "      <th>...</th>\n",
       "      <td>...</td>\n",
       "    </tr>\n",
       "    <tr>\n",
       "      <th>2018-05-28</th>\n",
       "      <td>1610.15</td>\n",
       "    </tr>\n",
       "    <tr>\n",
       "      <th>2018-05-29</th>\n",
       "      <td>1612.87</td>\n",
       "    </tr>\n",
       "    <tr>\n",
       "      <th>2018-05-30</th>\n",
       "      <td>1624.89</td>\n",
       "    </tr>\n",
       "    <tr>\n",
       "      <th>2018-05-31</th>\n",
       "      <td>1629.62</td>\n",
       "    </tr>\n",
       "    <tr>\n",
       "      <th>2018-06-01</th>\n",
       "      <td>1641.54</td>\n",
       "    </tr>\n",
       "    <tr>\n",
       "      <th>2018-06-04</th>\n",
       "      <td>1665.27</td>\n",
       "    </tr>\n",
       "    <tr>\n",
       "      <th>2018-06-05</th>\n",
       "      <td>1696.35</td>\n",
       "    </tr>\n",
       "    <tr>\n",
       "      <th>2018-06-06</th>\n",
       "      <td>1695.75</td>\n",
       "    </tr>\n",
       "    <tr>\n",
       "      <th>2018-06-07</th>\n",
       "      <td>1689.30</td>\n",
       "    </tr>\n",
       "    <tr>\n",
       "      <th>2018-06-08</th>\n",
       "      <td>1683.99</td>\n",
       "    </tr>\n",
       "    <tr>\n",
       "      <th>2018-06-11</th>\n",
       "      <td>1689.12</td>\n",
       "    </tr>\n",
       "    <tr>\n",
       "      <th>2018-06-12</th>\n",
       "      <td>1698.75</td>\n",
       "    </tr>\n",
       "    <tr>\n",
       "      <th>2018-06-13</th>\n",
       "      <td>1704.86</td>\n",
       "    </tr>\n",
       "    <tr>\n",
       "      <th>2018-06-14</th>\n",
       "      <td>1723.86</td>\n",
       "    </tr>\n",
       "    <tr>\n",
       "      <th>2018-06-15</th>\n",
       "      <td>1715.97</td>\n",
       "    </tr>\n",
       "    <tr>\n",
       "      <th>2018-06-18</th>\n",
       "      <td>1723.79</td>\n",
       "    </tr>\n",
       "    <tr>\n",
       "      <th>2018-06-19</th>\n",
       "      <td>1734.78</td>\n",
       "    </tr>\n",
       "    <tr>\n",
       "      <th>2018-06-20</th>\n",
       "      <td>1750.08</td>\n",
       "    </tr>\n",
       "    <tr>\n",
       "      <th>2018-06-21</th>\n",
       "      <td>1730.22</td>\n",
       "    </tr>\n",
       "    <tr>\n",
       "      <th>2018-06-22</th>\n",
       "      <td>1715.67</td>\n",
       "    </tr>\n",
       "    <tr>\n",
       "      <th>2018-06-25</th>\n",
       "      <td>1663.15</td>\n",
       "    </tr>\n",
       "    <tr>\n",
       "      <th>2018-06-26</th>\n",
       "      <td>1691.09</td>\n",
       "    </tr>\n",
       "    <tr>\n",
       "      <th>2018-06-27</th>\n",
       "      <td>1660.51</td>\n",
       "    </tr>\n",
       "    <tr>\n",
       "      <th>2018-06-28</th>\n",
       "      <td>1701.45</td>\n",
       "    </tr>\n",
       "    <tr>\n",
       "      <th>2018-06-29</th>\n",
       "      <td>1699.80</td>\n",
       "    </tr>\n",
       "    <tr>\n",
       "      <th>2018-07-02</th>\n",
       "      <td>1713.78</td>\n",
       "    </tr>\n",
       "    <tr>\n",
       "      <th>2018-07-03</th>\n",
       "      <td>1693.96</td>\n",
       "    </tr>\n",
       "    <tr>\n",
       "      <th>2018-07-04</th>\n",
       "      <td>1693.96</td>\n",
       "    </tr>\n",
       "    <tr>\n",
       "      <th>2018-07-05</th>\n",
       "      <td>1699.73</td>\n",
       "    </tr>\n",
       "    <tr>\n",
       "      <th>2018-07-06</th>\n",
       "      <td>1710.63</td>\n",
       "    </tr>\n",
       "  </tbody>\n",
       "</table>\n",
       "<p>135 rows × 1 columns</p>\n",
       "</div>"
      ],
      "text/plain": [
       "              Close\n",
       "Date               \n",
       "2018-01-01  1169.47\n",
       "2018-01-02  1189.01\n",
       "2018-01-03  1204.20\n",
       "2018-01-04  1209.59\n",
       "2018-01-05  1229.14\n",
       "2018-01-08  1246.87\n",
       "2018-01-09  1252.70\n",
       "2018-01-10  1254.33\n",
       "2018-01-11  1276.68\n",
       "2018-01-12  1305.20\n",
       "2018-01-15  1305.20\n",
       "2018-01-16  1304.86\n",
       "2018-01-17  1295.00\n",
       "2018-01-18  1293.32\n",
       "2018-01-19  1294.58\n",
       "2018-01-22  1327.31\n",
       "2018-01-23  1362.54\n",
       "2018-01-24  1357.51\n",
       "2018-01-25  1377.95\n",
       "2018-01-26  1402.05\n",
       "2018-01-29  1417.68\n",
       "2018-01-30  1437.82\n",
       "2018-01-31  1450.89\n",
       "2018-02-01  1390.00\n",
       "2018-02-02  1429.95\n",
       "2018-02-05  1390.00\n",
       "2018-02-06  1442.84\n",
       "2018-02-07  1416.78\n",
       "2018-02-08  1350.50\n",
       "2018-02-09  1339.60\n",
       "...             ...\n",
       "2018-05-28  1610.15\n",
       "2018-05-29  1612.87\n",
       "2018-05-30  1624.89\n",
       "2018-05-31  1629.62\n",
       "2018-06-01  1641.54\n",
       "2018-06-04  1665.27\n",
       "2018-06-05  1696.35\n",
       "2018-06-06  1695.75\n",
       "2018-06-07  1689.30\n",
       "2018-06-08  1683.99\n",
       "2018-06-11  1689.12\n",
       "2018-06-12  1698.75\n",
       "2018-06-13  1704.86\n",
       "2018-06-14  1723.86\n",
       "2018-06-15  1715.97\n",
       "2018-06-18  1723.79\n",
       "2018-06-19  1734.78\n",
       "2018-06-20  1750.08\n",
       "2018-06-21  1730.22\n",
       "2018-06-22  1715.67\n",
       "2018-06-25  1663.15\n",
       "2018-06-26  1691.09\n",
       "2018-06-27  1660.51\n",
       "2018-06-28  1701.45\n",
       "2018-06-29  1699.80\n",
       "2018-07-02  1713.78\n",
       "2018-07-03  1693.96\n",
       "2018-07-04  1693.96\n",
       "2018-07-05  1699.73\n",
       "2018-07-06  1710.63\n",
       "\n",
       "[135 rows x 1 columns]"
      ]
     },
     "execution_count": 31,
     "metadata": {},
     "output_type": "execute_result"
    }
   ],
   "source": [
    "start = datetime.datetime(2018, 1, 1)\n",
    "end = datetime.datetime.now()\n",
    "data = web.DataReader(\"AMZN\", 'morningstar', start, end)\n",
    "data.reset_index(inplace=True)\n",
    "data.set_index(\"Date\", inplace=True)\n",
    "data = data.drop(\"Symbol\", axis=1)\n",
    "pandaclose = pd.DataFrame(data['Close'])\n",
    "pandaclose"
   ]
  },
  {
   "cell_type": "code",
   "execution_count": 32,
   "metadata": {},
   "outputs": [
    {
     "data": {
      "text/html": [
       "<div>\n",
       "<style>\n",
       "    .dataframe thead tr:only-child th {\n",
       "        text-align: right;\n",
       "    }\n",
       "\n",
       "    .dataframe thead th {\n",
       "        text-align: left;\n",
       "    }\n",
       "\n",
       "    .dataframe tbody tr th {\n",
       "        vertical-align: top;\n",
       "    }\n",
       "</style>\n",
       "<table border=\"1\" class=\"dataframe\">\n",
       "  <thead>\n",
       "    <tr style=\"text-align: right;\">\n",
       "      <th></th>\n",
       "      <th>Close</th>\n",
       "    </tr>\n",
       "    <tr>\n",
       "      <th>Date</th>\n",
       "      <th></th>\n",
       "    </tr>\n",
       "  </thead>\n",
       "  <tbody>\n",
       "    <tr>\n",
       "      <th>2018-07-02</th>\n",
       "      <td>0.008191</td>\n",
       "    </tr>\n",
       "    <tr>\n",
       "      <th>2018-07-03</th>\n",
       "      <td>-0.011632</td>\n",
       "    </tr>\n",
       "    <tr>\n",
       "      <th>2018-07-04</th>\n",
       "      <td>0.000000</td>\n",
       "    </tr>\n",
       "    <tr>\n",
       "      <th>2018-07-05</th>\n",
       "      <td>0.003400</td>\n",
       "    </tr>\n",
       "    <tr>\n",
       "      <th>2018-07-06</th>\n",
       "      <td>0.006392</td>\n",
       "    </tr>\n",
       "  </tbody>\n",
       "</table>\n",
       "</div>"
      ],
      "text/plain": [
       "               Close\n",
       "Date                \n",
       "2018-07-02  0.008191\n",
       "2018-07-03 -0.011632\n",
       "2018-07-04  0.000000\n",
       "2018-07-05  0.003400\n",
       "2018-07-06  0.006392"
      ]
     },
     "execution_count": 32,
     "metadata": {},
     "output_type": "execute_result"
    }
   ],
   "source": [
    "log_returns = np.log(1 + pandaclose.pct_change())\n",
    "log_returns.tail()"
   ]
  },
  {
   "cell_type": "code",
   "execution_count": 33,
   "metadata": {},
   "outputs": [
    {
     "data": {
      "image/png": "[encoded data removed]",
      "text/plain": [
       "<matplotlib.figure.Figure at 0x4ddf91e128>"
      ]
     },
     "metadata": {},
     "output_type": "display_data"
    }
   ],
   "source": [
    "pandaclose.plot(figsize=(10, 6));"
   ]
  },
  {
   "cell_type": "code",
   "execution_count": 34,
   "metadata": {},
   "outputs": [
    {
     "data": {
      "text/plain": [
       "<matplotlib.axes._subplots.AxesSubplot at 0x4ddf9aeb00>"
      ]
     },
     "execution_count": 34,
     "metadata": {},
     "output_type": "execute_result"
    },
    {
     "data": {
      "image/png": "[encoded data removed]",
      "text/plain": [
       "<matplotlib.figure.Figure at 0x4ddf9ba470>"
      ]
     },
     "metadata": {},
     "output_type": "display_data"
    }
   ],
   "source": [
    "log_returns.plot(figsize = (10, 6))"
   ]
  },
  {
   "cell_type": "code",
   "execution_count": 35,
   "metadata": {},
   "outputs": [
    {
     "data": {
      "text/plain": [
       "Close    0.002838\n",
       "dtype: float64"
      ]
     },
     "execution_count": 35,
     "metadata": {},
     "output_type": "execute_result"
    }
   ],
   "source": [
    "u = log_returns.mean()\n",
    "u"
   ]
  },
  {
   "cell_type": "code",
   "execution_count": 36,
   "metadata": {},
   "outputs": [
    {
     "data": {
      "text/plain": [
       "Close    0.000303\n",
       "dtype: float64"
      ]
     },
     "execution_count": 36,
     "metadata": {},
     "output_type": "execute_result"
    }
   ],
   "source": [
    "var = log_returns.var()\n",
    "var"
   ]
  },
  {
   "cell_type": "code",
   "execution_count": 37,
   "metadata": {},
   "outputs": [
    {
     "data": {
      "text/plain": [
       "Close    0.002687\n",
       "dtype: float64"
      ]
     },
     "execution_count": 37,
     "metadata": {},
     "output_type": "execute_result"
    }
   ],
   "source": [
    "drift = u - (0.5 * var)\n",
    "drift"
   ]
  },
  {
   "cell_type": "code",
   "execution_count": 38,
   "metadata": {},
   "outputs": [
    {
     "data": {
      "text/plain": [
       "Close    0.017401\n",
       "dtype: float64"
      ]
     },
     "execution_count": 38,
     "metadata": {},
     "output_type": "execute_result"
    }
   ],
   "source": [
    "stdev = log_returns.std()\n",
    "stdev"
   ]
  },
  {
   "cell_type": "code",
   "execution_count": 39,
   "metadata": {},
   "outputs": [
    {
     "data": {
      "text/plain": [
       "pandas.core.series.Series"
      ]
     },
     "execution_count": 39,
     "metadata": {},
     "output_type": "execute_result"
    }
   ],
   "source": [
    "type(drift)"
   ]
  },
  {
   "cell_type": "code",
   "execution_count": 40,
   "metadata": {},
   "outputs": [
    {
     "data": {
      "text/plain": [
       "pandas.core.series.Series"
      ]
     },
     "execution_count": 40,
     "metadata": {},
     "output_type": "execute_result"
    }
   ],
   "source": [
    "type(stdev)"
   ]
  },
  {
   "cell_type": "code",
   "execution_count": 41,
   "metadata": {},
   "outputs": [
    {
     "data": {
      "text/plain": [
       "array([ 0.00268675])"
      ]
     },
     "execution_count": 41,
     "metadata": {},
     "output_type": "execute_result"
    }
   ],
   "source": [
    "np.array(drift)"
   ]
  },
  {
   "cell_type": "code",
   "execution_count": 42,
   "metadata": {},
   "outputs": [
    {
     "data": {
      "text/plain": [
       "array([ 0.00268675])"
      ]
     },
     "execution_count": 42,
     "metadata": {},
     "output_type": "execute_result"
    }
   ],
   "source": [
    "drift.values"
   ]
  },
  {
   "cell_type": "code",
   "execution_count": 43,
   "metadata": {},
   "outputs": [
    {
     "data": {
      "text/plain": [
       "array([ 0.01740068])"
      ]
     },
     "execution_count": 43,
     "metadata": {},
     "output_type": "execute_result"
    }
   ],
   "source": [
    "stdev.values"
   ]
  },
  {
   "cell_type": "code",
   "execution_count": 44,
   "metadata": {},
   "outputs": [
    {
     "data": {
      "text/plain": [
       "3.0902323061678132"
      ]
     },
     "execution_count": 44,
     "metadata": {},
     "output_type": "execute_result"
    }
   ],
   "source": [
    "norm.ppf(0.999)"
   ]
  },
  {
   "cell_type": "code",
   "execution_count": 45,
   "metadata": {},
   "outputs": [
    {
     "data": {
      "text/plain": [
       "array([[ 0.1049839 ,  0.81320621],\n",
       "       [ 0.58790592,  0.83002885],\n",
       "       [ 0.13777808,  0.3504686 ],\n",
       "       [ 0.14695026,  0.54294239],\n",
       "       [ 0.36016114,  0.01683885],\n",
       "       [ 0.15595486,  0.04244455],\n",
       "       [ 0.19513819,  0.30450125],\n",
       "       [ 0.7230824 ,  0.77509978],\n",
       "       [ 0.64048505,  0.97272931],\n",
       "       [ 0.91555098,  0.24154233]])"
      ]
     },
     "execution_count": 45,
     "metadata": {},
     "output_type": "execute_result"
    }
   ],
   "source": [
    "x = np.random.rand(10, 2)\n",
    "x"
   ]
  },
  {
   "cell_type": "code",
   "execution_count": 46,
   "metadata": {},
   "outputs": [
    {
     "data": {
      "text/plain": [
       "array([[-1.25365397,  0.88977338],\n",
       "       [ 0.2221615 ,  0.95427926],\n",
       "       [-1.09035643, -0.38405565],\n",
       "       [-1.04960335,  0.10784933],\n",
       "       [-0.35802812, -2.12390972],\n",
       "       [-1.01122298, -1.72299682],\n",
       "       [-0.85911625, -0.51149785],\n",
       "       [ 0.59202299,  0.75574776],\n",
       "       [ 0.3597556 ,  1.92251186],\n",
       "       [ 1.37575322, -0.70134994]])"
      ]
     },
     "execution_count": 46,
     "metadata": {},
     "output_type": "execute_result"
    }
   ],
   "source": [
    "norm.ppf(x)"
   ]
  },
  {
   "cell_type": "code",
   "execution_count": 47,
   "metadata": {},
   "outputs": [
    {
     "data": {
      "text/plain": [
       "array([[-0.09407712,  0.27753532],\n",
       "       [-0.67991544,  0.10633551],\n",
       "       [ 0.92893224, -0.09177613],\n",
       "       [-0.63434033, -0.20225078],\n",
       "       [-0.76692848,  0.13904814],\n",
       "       [-0.49983524, -1.8016851 ],\n",
       "       [ 1.59736251, -0.81253229],\n",
       "       [ 0.09241889, -0.68561101],\n",
       "       [-1.37950134, -0.30885595],\n",
       "       [ 0.86714265, -0.17729336]])"
      ]
     },
     "execution_count": 47,
     "metadata": {},
     "output_type": "execute_result"
    }
   ],
   "source": [
    "Z = norm.ppf(np.random.rand(10,2))\n",
    "Z"
   ]
  },
  {
   "cell_type": "code",
   "execution_count": 703,
   "metadata": {
    "collapsed": true
   },
   "outputs": [],
   "source": [
    "t_intervals = 360\n",
    "iterations = 5"
   ]
  },
  {
   "cell_type": "code",
   "execution_count": 704,
   "metadata": {
    "collapsed": true
   },
   "outputs": [],
   "source": [
    "daily_returns = np.exp(drift.values + stdev.values * norm.ppf(np.random.rand(t_intervals, iterations)))"
   ]
  },
  {
   "cell_type": "code",
   "execution_count": 705,
   "metadata": {},
   "outputs": [
    {
     "data": {
      "text/plain": [
       "Close    1710.63\n",
       "Name: 2018-07-06 00:00:00, dtype: float64"
      ]
     },
     "execution_count": 705,
     "metadata": {},
     "output_type": "execute_result"
    }
   ],
   "source": [
    "S0 = pandaclose.iloc[-1]\n",
    "S0"
   ]
  },
  {
   "cell_type": "code",
   "execution_count": 706,
   "metadata": {
    "collapsed": true
   },
   "outputs": [],
   "source": [
    "price_list = np.zeros_like(daily_returns)"
   ]
  },
  {
   "cell_type": "code",
   "execution_count": 707,
   "metadata": {
    "collapsed": true
   },
   "outputs": [],
   "source": [
    "price_list[0] = S0"
   ]
  },
  {
   "cell_type": "code",
   "execution_count": 708,
   "metadata": {
    "collapsed": true
   },
   "outputs": [],
   "source": [
    "for t in range(1, t_intervals):\n",
    "    price_list[t] = price_list[t - 1] * daily_returns[t]"
   ]
  },
  {
   "cell_type": "code",
   "execution_count": 709,
   "metadata": {},
   "outputs": [
    {
     "data": {
      "text/plain": [
       "array([[ 1710.63      ,  1710.63      ,  1710.63      ,  1710.63      ,\n",
       "         1710.63      ],\n",
       "       [ 1729.47151424,  1706.46277068,  1744.37233066,  1735.13246981,\n",
       "         1681.24554318],\n",
       "       [ 1713.99884297,  1733.07180501,  1759.18465592,  1710.98672126,\n",
       "         1712.39558471],\n",
       "       ..., \n",
       "       [ 6176.74184094,  3828.14262144,  2390.89500174,  5332.36923161,\n",
       "         8099.93378375],\n",
       "       [ 6249.51869629,  3776.5563681 ,  2400.7252983 ,  5341.1586089 ,\n",
       "         8078.6203439 ],\n",
       "       [ 6323.27872653,  3782.49877319,  2392.60746385,  5280.8582433 ,\n",
       "         8175.89041702]])"
      ]
     },
     "execution_count": 709,
     "metadata": {},
     "output_type": "execute_result"
    }
   ],
   "source": [
    "price_list"
   ]
  },
  {
   "cell_type": "code",
   "execution_count": 710,
   "metadata": {},
   "outputs": [
    {
     "data": {
      "text/plain": [
       "array([ 1710.63      ,  1729.47151424,  1713.99884297,  1746.06362253,\n",
       "        1770.32838458,  1798.80627668,  1821.16047061,  1850.15146259,\n",
       "        1829.42366906,  1830.12070666,  1801.76179668,  1804.67303874,\n",
       "        1826.28049236,  1863.15198502,  1869.05863629,  1892.05934139,\n",
       "        1929.09615258,  1900.10047547,  1878.9559481 ,  1879.27349521,\n",
       "        1868.89247082,  1850.58615825,  1874.89712974,  1884.28352011,\n",
       "        1860.65773589,  1878.9539482 ,  1899.02508325,  1939.32277776,\n",
       "        1965.45667115,  1978.30087175,  2001.63157642,  2004.89441223,\n",
       "        2029.29349796,  2036.80134499,  1975.59676896,  1933.44086863,\n",
       "        2004.18937558,  1957.29739487,  1943.29144641,  1955.9005238 ,\n",
       "        1930.34502195,  1928.33041557,  1913.67598917,  1965.71600531,\n",
       "        1900.96497128,  1886.05173274,  1929.27632034,  1882.24958613,\n",
       "        1899.49624326,  1904.91478189,  1908.94444553,  1928.90454452,\n",
       "        1919.20682781,  1860.18455664,  1889.21831887,  1855.97807384,\n",
       "        1944.62171128,  1975.43888805,  1987.37774242,  1958.91918318,\n",
       "        1966.39727074,  1970.81526723,  1993.95184828,  2022.02581896,\n",
       "        2057.00763551,  2075.44725033,  2107.21753046,  2113.58132265,\n",
       "        2117.01464454,  2173.99670356,  2197.99114871,  2163.93581968,\n",
       "        2200.43010223,  2178.35888394,  2207.73007938,  2289.28248508,\n",
       "        2290.18114428,  2295.2660378 ,  2304.30621886,  2332.6603236 ,\n",
       "        2373.30993047,  2336.6304907 ,  2404.81093367,  2384.64055161,\n",
       "        2345.00291293,  2352.7590132 ,  2324.53862512,  2314.70289673,\n",
       "        2334.77492252,  2354.10454319,  2426.52286297,  2458.90486384,\n",
       "        2471.02589249,  2428.23951726,  2447.13627905,  2449.31739416,\n",
       "        2485.01543981,  2454.46448679,  2504.94774871,  2490.19474448,\n",
       "        2441.22063552,  2400.91925762,  2430.83193149,  2378.38263204,\n",
       "        2378.03331057,  2419.73832455,  2411.56181065,  2382.12217638,\n",
       "        2363.33905761,  2341.63762445,  2363.27496049,  2329.44679598,\n",
       "        2375.69148113,  2319.03135611,  2341.03372122,  2382.32345858,\n",
       "        2352.82261498,  2423.85648136,  2401.65751458,  2380.11663635,\n",
       "        2375.74102421,  2390.78763304,  2479.08819077,  2448.23455442,\n",
       "        2522.23994563,  2570.22300614,  2712.66584226,  2657.96865712,\n",
       "        2618.30774109,  2581.88727167,  2552.88628578,  2478.34833331,\n",
       "        2446.09071618,  2427.19333937,  2470.55547911,  2504.90314556,\n",
       "        2487.61421117,  2533.76220477,  2504.78539054,  2447.51200033,\n",
       "        2461.04478972,  2441.28463064,  2421.30663459,  2450.88514024,\n",
       "        2490.97520256,  2481.82304328,  2428.54418079,  2415.49066954,\n",
       "        2427.31374781,  2408.57316824,  2415.91850842,  2408.66607228,\n",
       "        2412.01440414,  2420.45672327,  2348.12152512,  2284.93369768,\n",
       "        2276.3458051 ,  2204.57249122,  2249.5362832 ,  2284.1463475 ,\n",
       "        2236.27633631,  2305.88686063,  2410.25531703,  2468.80183729,\n",
       "        2474.40131362,  2515.24962515,  2480.35726215,  2527.11605477,\n",
       "        2555.12586498,  2593.08007385,  2596.91084095,  2623.55918115,\n",
       "        2577.91477759,  2653.7999653 ,  2639.64696014,  2683.1576132 ,\n",
       "        2736.08394683,  2769.35960141,  2726.18694512,  2750.80678366,\n",
       "        2724.82218122,  2816.33693147,  2838.02387156,  2873.94950339,\n",
       "        2901.86701579,  2850.8095812 ,  2822.9391021 ,  2869.38647394,\n",
       "        2865.56961162,  2847.56277858,  2890.25839937,  2852.33632336,\n",
       "        2819.14363341,  2882.93534535,  2943.6031772 ,  3041.14963176,\n",
       "        3018.52458632,  3047.33178697,  3158.0275682 ,  3212.88445455,\n",
       "        3102.54712006,  3146.80463361,  3220.10299774,  3174.56359794,\n",
       "        3158.10820492,  3190.23024706,  3179.50587657,  3112.17241896,\n",
       "        3152.21513081,  3152.79341051,  3209.21916142,  3133.3411638 ,\n",
       "        3153.40769173,  3105.82071942,  3188.08264694,  3151.03285351,\n",
       "        3134.39422852,  3122.7734674 ,  3274.07448371,  3302.88934206,\n",
       "        3325.41002551,  3354.85343636,  3249.13262897,  3274.37028663,\n",
       "        3261.52484035,  3288.46633145,  3317.22150214,  3326.79479598,\n",
       "        3318.22313025,  3225.04780279,  3295.46144023,  3338.53149531,\n",
       "        3290.5471599 ,  3300.18044553,  3301.30096197,  3421.09909713,\n",
       "        3485.39516638,  3495.51116311,  3608.43867403,  3801.13205271,\n",
       "        3758.88080996,  3830.32073374,  3850.83065238,  3839.65591754,\n",
       "        3762.36757874,  3770.70622101,  3821.79277712,  3846.75149976,\n",
       "        3899.40613896,  3757.4701806 ,  3803.53636321,  3860.57580371,\n",
       "        3828.59909717,  3863.19921113,  3758.45449144,  3753.85517656,\n",
       "        3760.10856367,  3793.77891195,  3811.14661437,  3858.27760285,\n",
       "        3818.15917025,  3841.0851243 ,  3789.06338096,  3783.86879113,\n",
       "        3885.61829633,  3952.78410047,  3935.39882261,  3985.11023186,\n",
       "        3985.37210195,  3992.4893633 ,  3944.73436986,  4030.94673383,\n",
       "        4088.02568213,  4222.11783824,  4254.08313694,  4259.17593411,\n",
       "        4448.16410934,  4404.75228073,  4481.92132186,  4493.91576043,\n",
       "        4494.36569917,  4619.06834648,  4493.34767975,  4478.39916885,\n",
       "        4505.7717941 ,  4514.79043367,  4601.81864083,  4628.2880213 ,\n",
       "        4669.26624775,  4764.5941644 ,  4772.93086761,  4838.37710478,\n",
       "        4860.76561969,  4890.18110695,  4873.03776972,  4954.77098825,\n",
       "        5063.15440368,  5155.58017428,  5223.13839125,  5323.56645963,\n",
       "        5349.43887168,  5334.78153181,  5311.9736485 ,  5312.27395007,\n",
       "        5445.93824126,  5436.28114517,  5271.12125726,  5263.01819088,\n",
       "        5363.33589912,  5390.75158037,  5187.62910957,  5124.60420009,\n",
       "        4991.08756195,  4937.57632566,  4894.49295017,  5029.14091892,\n",
       "        5146.42220045,  5066.30284513,  4987.40129631,  5079.51065699,\n",
       "        5028.88741871,  5052.75202295,  5077.89643989,  5069.78638461,\n",
       "        5057.51939215,  4962.73999441,  4968.17136143,  5016.08277102,\n",
       "        4996.90736752,  5017.79842602,  5170.70797561,  5075.36873723,\n",
       "        5203.91717093,  5180.06345593,  5231.21398008,  5289.63397095,\n",
       "        5320.15646009,  5281.21024481,  5234.65871206,  5236.70111309,\n",
       "        5284.48041149,  5320.59706257,  5233.52373692,  5485.4462975 ,\n",
       "        5541.26782461,  5511.4763889 ,  5437.85913012,  5406.47867464,\n",
       "        5457.46891776,  5578.66094479,  5671.19309058,  5851.22621363,\n",
       "        5900.18412067,  5948.34994958,  5840.93699963,  5942.42266199,\n",
       "        6108.76171628,  6176.74184094,  6249.51869629,  6323.27872653])"
      ]
     },
     "execution_count": 710,
     "metadata": {},
     "output_type": "execute_result"
    }
   ],
   "source": [
    "price_list[:,0]"
   ]
  },
  {
   "cell_type": "code",
   "execution_count": 711,
   "metadata": {},
   "outputs": [],
   "source": [
    "dnp=np.array(pandaclose)"
   ]
  },
  {
   "cell_type": "code",
   "execution_count": 712,
   "metadata": {},
   "outputs": [
    {
     "data": {
      "text/plain": [
       "135"
      ]
     },
     "execution_count": 712,
     "metadata": {},
     "output_type": "execute_result"
    }
   ],
   "source": [
    "len(dnp)"
   ]
  },
  {
   "cell_type": "code",
   "execution_count": 713,
   "metadata": {
    "collapsed": true
   },
   "outputs": [],
   "source": [
    "t=np.linspace(-134,0,135)"
   ]
  },
  {
   "cell_type": "code",
   "execution_count": 714,
   "metadata": {},
   "outputs": [
    {
     "data": {
      "image/png": "[encoded data removed]",
      "text/plain": [
       "<matplotlib.figure.Figure at 0x4de31bf9e8>"
      ]
     },
     "metadata": {},
     "output_type": "display_data"
    }
   ],
   "source": [
    "\n",
    "fig = plt.figure()\n",
    "ax = fig.add_subplot(1, 1, 1)\n",
    "plt.xlim(-50,150)\n",
    "plt.ylim(1400,3000)\n",
    "ax.plot(price_list);\n",
    "ax.plot(t,dnp, color  = \"k\");"
   ]
  },
  {
   "cell_type": "code",
   "execution_count": 722,
   "metadata": {
    "collapsed": true
   },
   "outputs": [],
   "source": [
    "trecta=np.linspace(0,90,100)\n",
    "def recta(t):\n",
    "    return 9.1667*t + 1725\n",
    "def recta_inf(t):\n",
    "    return -3.1667*t + 1725"
   ]
  },
  {
   "cell_type": "code",
   "execution_count": 723,
   "metadata": {},
   "outputs": [],
   "source": [
    "def yinf(x,y,n,xini,xfin,yini,yfin):\n",
    "    j=0\n",
    "    count=0\n",
    "    for i in range(n):\n",
    "        if (y[i]>yini>y[j]) or (y[i]<yini<y[j]):\n",
    "                if xini <x[j]<xfin:\n",
    "                    count += 1\n",
    "        j = i\n",
    "    return count\n",
    "\n",
    "def ysup(x,y,n,xini,xfin,yini,yfin):\n",
    "    j=0\n",
    "    count=0\n",
    "    for i in range(n):\n",
    "        if (y[i]>yfin>y[j]) or (y[i]<yfin<y[j]):\n",
    "                if xini <x[j]<xfin:\n",
    "                    count += 1\n",
    "        j = i\n",
    "    return count"
   ]
  },
  {
   "cell_type": "code",
   "execution_count": 725,
   "metadata": {},
   "outputs": [
    {
     "name": "stdout",
     "output_type": "stream",
     "text": [
      "Cruces con Umbral Inf de la prediccion 0 = 2\n",
      "Cruces con Umbral Sup de la prediccion 0 = 0\n",
      "Cruces con Umbral Inf de la prediccion 1 = 3\n",
      "Cruces con Umbral Sup de la prediccion 1 = 0\n",
      "Cruces con Umbral Inf de la prediccion 2 = 22\n",
      "Cruces con Umbral Sup de la prediccion 2 = 4\n",
      "Cruces con Umbral Inf de la prediccion 3 = 4\n",
      "Cruces con Umbral Sup de la prediccion 3 = 0\n",
      "Cruces con Umbral Inf de la prediccion 4 = 1\n",
      "Cruces con Umbral Sup de la prediccion 4 = 0\n"
     ]
    },
    {
     "data": {
      "image/png": "[encoded data removed]",
      "text/plain": [
       "<matplotlib.figure.Figure at 0x4de276dd68>"
      ]
     },
     "metadata": {},
     "output_type": "display_data"
    }
   ],
   "source": [
    "yn = np.linspace(0,360,360)\n",
    "min = 2\n",
    "plt.plot(t,dnp, color  = \"k\");\n",
    "for i in range(0,5):\n",
    "    print(\"Cruces con Umbral Inf de la prediccion %s\"%i, \"= %s\"%ysup(yn,price_list[:,i],360,0,360,1400,1725))\n",
    "    print(\"Cruces con Umbral Sup de la prediccion %s\"%i, \"= %s\"%yinf(yn,price_list[:,i],360,0,360,1400,1725))\n",
    "    if(ysup(yn,price_list[:,i],360,0,360,1400,1725) > lim or yinf(yn,price_list[:,i],360,0,360,1400,1725) > lim ):\n",
    "        plt.plot(yn,price_list[:,i],label = \"PD %s\"%i)  \n",
    "        \n",
    "    elif(ysup(yn,price_list[:,i],360,0,360,1400,1725) < lim or yinf(yn,price_list[:,i],360,0,360,1400,1725) < lim ): \n",
    "         plt.plot(yn,price_list[:,i], alpha = .2, label = \"PD %s\"%i)   \n",
    "plt.plot(yn,recta(yn), color  = \"r\");\n",
    "plt.plot(yn,recta_inf(yn), color  = \"r\");\n",
    "plt.xlabel(\"Time\")\n",
    "plt.ylabel(\"Stock Price\")\n",
    "plt.legend()\n",
    "plt.show()"
   ]
  },
  {
   "cell_type": "code",
   "execution_count": 720,
   "metadata": {},
   "outputs": [
    {
     "data": {
      "text/plain": [
       "2"
      ]
     },
     "execution_count": 720,
     "metadata": {},
     "output_type": "execute_result"
    }
   ],
   "source": []
  },
  {
   "cell_type": "code",
   "execution_count": 366,
   "metadata": {},
   "outputs": [
    {
     "data": {
      "text/plain": [
       "0"
      ]
     },
     "execution_count": 366,
     "metadata": {},
     "output_type": "execute_result"
    }
   ],
   "source": [
    "\n"
   ]
  },
  {
   "cell_type": "code",
   "execution_count": 390,
   "metadata": {},
   "outputs": [
    {
     "ename": "NameError",
     "evalue": "name 'count' is not defined",
     "output_type": "error",
     "traceback": [
      "\u001b[1;31m---------------------------------------------------------------------------\u001b[0m",
      "\u001b[1;31mNameError\u001b[0m                                 Traceback (most recent call last)",
      "\u001b[1;32m<ipython-input-390-bb2ede5960ff>\u001b[0m in \u001b[0;36m<module>\u001b[1;34m()\u001b[0m\n\u001b[1;32m----> 1\u001b[1;33m \u001b[0mprint\u001b[0m\u001b[1;33m(\u001b[0m\u001b[0mcount\u001b[0m\u001b[1;33m)\u001b[0m\u001b[1;33m\u001b[0m\u001b[0m\n\u001b[0m",
      "\u001b[1;31mNameError\u001b[0m: name 'count' is not defined"
     ]
    }
   ],
   "source": []
  },
  {
   "cell_type": "code",
   "execution_count": null,
   "metadata": {
    "collapsed": true
   },
   "outputs": [],
   "source": []
  }
 ],
 "metadata": {
  "kernelspec": {
   "display_name": "Python 3",
   "language": "python",
   "name": "python3"
  },
  "language_info": {
   "codemirror_mode": {
    "name": "ipython",
    "version": 3
   },
   "file_extension": ".py",
   "mimetype": "text/x-python",
   "name": "python",
   "nbconvert_exporter": "python",
   "pygments_lexer": "ipython3",
   "version": "3.6.3"
  }
 },
 "nbformat": 4,
 "nbformat_minor": 2
}
